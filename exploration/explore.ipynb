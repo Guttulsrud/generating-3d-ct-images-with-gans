{
 "cells": [
  {
   "cell_type": "code",
   "execution_count": 1,
   "metadata": {
    "collapsed": true
   },
   "outputs": [
    {
     "name": "stderr",
     "output_type": "stream",
     "text": [
      "UsageError: Line magic function `%` not found.\n"
     ]
    }
   ],
   "source": [
    "import glob\n",
    "import os.path\n",
    "\n",
    "import matplotlib.pyplot as plt\n",
    "import numpy as np\n",
    "import pandas as pd\n",
    "from matplotlib.colors import ListedColormap\n",
    "from tqdm import tqdm\n",
    "import nibabel as nib\n",
    "import seaborn as sns\n",
    "from visualization.display_image import display_image\n",
    "import nibabel as nib\n",
    "from nibabel.orientations import aff2axcodes\n",
    "\n",
    "\n",
    "def get_image(in_path, mask=False):\n",
    "    path = '../data/original'\n",
    "    if mask:\n",
    "        path += '/masks/'\n",
    "    else:\n",
    "        path += '/images/'\n",
    "\n",
    "    path += f'{in_path}.nii.gz'\n",
    "    image = nib.load(path)\n",
    "    return image.get_fdata()\n",
    "\n",
    "% matplotlib inline\n",
    "\n",
    "def plot_center_sagittal_slice(source, name, data):\n",
    "    data = np.transpose(data, axes=(1, 0, 2))\n",
    "    center_sagittal_index = data.shape[1] // 2\n",
    "    center_sagittal_slice = data[:, center_sagittal_index, :]\n",
    "\n",
    "    fig, ax = plt.subplots(1, 1, figsize=(8, 8))\n",
    "    im = ax.imshow(np.rot90(center_sagittal_slice), cmap='gray', aspect='equal',\n",
    "                   extent=[0, data.shape[0], 0, data.shape[0]])\n",
    "    ax.set_title(f'{name} Center Sagittal (slice {center_sagittal_index})')\n",
    "    ax.axis('off')\n",
    "    plt.savefig(f'sagittal/{source}/{name}.png')\n",
    "    plt.close()\n",
    "\n",
    "\n",
    "def plot_center_sagittal_slice_with_mask(image, mask, source, name):\n",
    "    data = np.transpose(image, axes=(1, 0, 2))\n",
    "\n",
    "    # Find sagittal slice with maximum number of nonzero values in the mask\n",
    "    mask_data = np.transpose(mask, axes=(1, 0, 2))\n",
    "    mask_sums = np.sum(mask_data, axis=(0, 2))\n",
    "    center_sagittal_index = np.argmax(mask_sums)\n",
    "\n",
    "    center_sagittal_slice = data[:, center_sagittal_index, :]\n",
    "\n",
    "    # Find center sagittal slice of the mask\n",
    "    mask_center_sagittal_slice = mask_data[:, center_sagittal_index, :]\n",
    "\n",
    "    # Create overlay array with non-zero values only\n",
    "    overlay = np.zeros_like(center_sagittal_slice)\n",
    "    overlay[mask_center_sagittal_slice != 0] = mask_center_sagittal_slice[mask_center_sagittal_slice != 0]\n",
    "\n",
    "    # Overlay the overlay array on top of the center sagittal slice of the image\n",
    "    fig, ax = plt.subplots(1, 1, figsize=(10, 10))\n",
    "    im = ax.imshow(np.rot90(center_sagittal_slice), cmap='gray', aspect='equal',\n",
    "                   extent=[0, data.shape[0], 0, data.shape[0]])\n",
    "    ax.imshow(np.rot90(overlay), cmap='Reds', alpha=0.2, aspect='equal', extent=[0, data.shape[0], 0, data.shape[0]])\n",
    "    ax.set_title(f'Sagittal Slice {center_sagittal_index}')\n",
    "    ax.axis('off')\n",
    "    plt.savefig(f'sagittal_with_mask_cropped/{source}/{name}.png')\n",
    "    plt.close()"
   ]
  },
  {
   "cell_type": "markdown",
   "source": [
    "### Load data"
   ],
   "metadata": {
    "collapsed": false
   }
  },
  {
   "cell_type": "code",
   "execution_count": 164,
   "outputs": [
    {
     "name": "stderr",
     "output_type": "stream",
     "text": [
      "524it [00:00, 803.57it/s]\n"
     ]
    },
    {
     "data": {
      "text/plain": "    source  slices         image      mask\n0     CHUM      91  CHUM-001__CT  CHUM-001\n1     CHUM      91  CHUM-002__CT  CHUM-002\n2     CHUM     240  CHUM-006__CT  CHUM-006\n3     CHUM     247  CHUM-007__CT  CHUM-007\n4     CHUM     236  CHUM-008__CT  CHUM-008\n..     ...     ...           ...       ...\n519    MDA     127   MDA-197__CT   MDA-197\n520    MDA     127   MDA-198__CT   MDA-198\n521    MDA     127   MDA-199__CT   MDA-199\n522    MDA     267   MDA-200__CT   MDA-200\n523    MDA     127   MDA-201__CT   MDA-201\n\n[524 rows x 4 columns]",
      "text/html": "<div>\n<style scoped>\n    .dataframe tbody tr th:only-of-type {\n        vertical-align: middle;\n    }\n\n    .dataframe tbody tr th {\n        vertical-align: top;\n    }\n\n    .dataframe thead th {\n        text-align: right;\n    }\n</style>\n<table border=\"1\" class=\"dataframe\">\n  <thead>\n    <tr style=\"text-align: right;\">\n      <th></th>\n      <th>source</th>\n      <th>slices</th>\n      <th>image</th>\n      <th>mask</th>\n    </tr>\n  </thead>\n  <tbody>\n    <tr>\n      <th>0</th>\n      <td>CHUM</td>\n      <td>91</td>\n      <td>CHUM-001__CT</td>\n      <td>CHUM-001</td>\n    </tr>\n    <tr>\n      <th>1</th>\n      <td>CHUM</td>\n      <td>91</td>\n      <td>CHUM-002__CT</td>\n      <td>CHUM-002</td>\n    </tr>\n    <tr>\n      <th>2</th>\n      <td>CHUM</td>\n      <td>240</td>\n      <td>CHUM-006__CT</td>\n      <td>CHUM-006</td>\n    </tr>\n    <tr>\n      <th>3</th>\n      <td>CHUM</td>\n      <td>247</td>\n      <td>CHUM-007__CT</td>\n      <td>CHUM-007</td>\n    </tr>\n    <tr>\n      <th>4</th>\n      <td>CHUM</td>\n      <td>236</td>\n      <td>CHUM-008__CT</td>\n      <td>CHUM-008</td>\n    </tr>\n    <tr>\n      <th>...</th>\n      <td>...</td>\n      <td>...</td>\n      <td>...</td>\n      <td>...</td>\n    </tr>\n    <tr>\n      <th>519</th>\n      <td>MDA</td>\n      <td>127</td>\n      <td>MDA-197__CT</td>\n      <td>MDA-197</td>\n    </tr>\n    <tr>\n      <th>520</th>\n      <td>MDA</td>\n      <td>127</td>\n      <td>MDA-198__CT</td>\n      <td>MDA-198</td>\n    </tr>\n    <tr>\n      <th>521</th>\n      <td>MDA</td>\n      <td>127</td>\n      <td>MDA-199__CT</td>\n      <td>MDA-199</td>\n    </tr>\n    <tr>\n      <th>522</th>\n      <td>MDA</td>\n      <td>267</td>\n      <td>MDA-200__CT</td>\n      <td>MDA-200</td>\n    </tr>\n    <tr>\n      <th>523</th>\n      <td>MDA</td>\n      <td>127</td>\n      <td>MDA-201__CT</td>\n      <td>MDA-201</td>\n    </tr>\n  </tbody>\n</table>\n<p>524 rows × 4 columns</p>\n</div>"
     },
     "execution_count": 164,
     "metadata": {},
     "output_type": "execute_result"
    }
   ],
   "source": [
    "image_paths = glob.glob('../data/original/images/*CT.nii.gz')\n",
    "mask_paths = glob.glob('../data/original/masks/*.nii.gz')\n",
    "data = []\n",
    "\n",
    "lens = []\n",
    "\n",
    "for image_path, mask_path in tqdm(zip(image_paths, mask_paths)):\n",
    "    image = nib.load(image_path)\n",
    "    # if image.shape[2] < 300:\n",
    "    #     continue\n",
    "\n",
    "    group = image_path.split('images\\\\')[1].split('-')[0]\n",
    "    data.append({'source': group, 'slices': image.shape[2], 'image': image_path.split('images\\\\')[1].split('.')[0],\n",
    "                 'mask': mask_path.split('masks\\\\')[1].split('.')[0]})\n",
    "\n",
    "data = pd.DataFrame(data)\n",
    "data"
   ],
   "metadata": {
    "collapsed": false
   }
  },
  {
   "cell_type": "markdown",
   "source": [
    "### Number of images per source"
   ],
   "metadata": {
    "collapsed": false
   }
  },
  {
   "cell_type": "code",
   "execution_count": 154,
   "outputs": [
    {
     "data": {
      "text/plain": "MDA     198\nCHUP     72\nCHUS     72\nCHUM     56\nHGJ      55\nCHUV     53\nHMR      18\nName: source, dtype: int64"
     },
     "execution_count": 154,
     "metadata": {},
     "output_type": "execute_result"
    }
   ],
   "source": [
    "data.source.value_counts()"
   ],
   "metadata": {
    "collapsed": false
   }
  },
  {
   "cell_type": "markdown",
   "source": [
    "### Slice distribution all sources"
   ],
   "metadata": {
    "collapsed": false
   }
  },
  {
   "cell_type": "code",
   "execution_count": 153,
   "outputs": [
    {
     "data": {
      "text/plain": "<Figure size 1200x800 with 7 Axes>",
      "image/png": "[encoded data removed]"
     },
     "metadata": {},
     "output_type": "display_data"
    }
   ],
   "source": [
    "\n",
    "unique_groups = data['source'].unique()\n",
    "n_groups = len(unique_groups)\n",
    "\n",
    "# Set the figure size and style\n",
    "# plt.style.use('seaborn-whitegrid')\n",
    "\n",
    "# Create a grid of subplots with 2 columns\n",
    "n_columns = 4\n",
    "n_rows = int(np.ceil(n_groups / n_columns))\n",
    "fig, axes = plt.subplots(n_rows, n_columns, figsize=(12, 4 * n_rows))\n",
    "\n",
    "for i, group in enumerate(unique_groups):\n",
    "    # Get the current subplot's row and column index\n",
    "    row_idx = i // n_columns\n",
    "    col_idx = i % n_columns\n",
    "\n",
    "    # Plot the histogram for the current group\n",
    "    axes[row_idx, col_idx].hist(data[data['source'] == group]['slices'], bins=15)\n",
    "\n",
    "    # Set the title for the current subplot\n",
    "    axes[row_idx, col_idx].set_title(group)\n",
    "\n",
    "    # Set the x and y labels for the current subplot\n",
    "    axes[row_idx, col_idx].set_xlabel('Slices')\n",
    "    axes[row_idx, col_idx].set_ylabel('Frequency')\n",
    "\n",
    "# Remove empty subplots if any\n",
    "if n_groups % n_columns != 0:\n",
    "    for j in range(n_groups, n_rows * n_columns):\n",
    "        fig.delaxes(axes[j // n_columns, j % n_columns])\n",
    "\n",
    "plt.subplots_adjust(hspace=0.4, wspace=0.4)\n",
    "\n",
    "# Add a main title for the entire plot\n",
    "plt.suptitle('Slice distribution per datasource', fontsize=16)\n",
    "plt.savefig('slice_distribution_separate.png')\n"
   ],
   "metadata": {
    "collapsed": false
   }
  },
  {
   "cell_type": "code",
   "execution_count": 155,
   "outputs": [
    {
     "name": "stdout",
     "output_type": "stream",
     "text": [
      "('L', 'P', 'S')\n",
      "0\n"
     ]
    }
   ],
   "source": [
    "\n",
    "\n",
    "# Load the Nifti image\n",
    "img = nib.load('../data/original/images/CHUM-001__CT.nii.gz')\n",
    "\n",
    "# Get the affine matrix of the image\n",
    "affine = img.affine\n",
    "\n",
    "# Get the orientation of the image axes\n",
    "codes = aff2axcodes(affine)\n",
    "\n",
    "print(codes)\n",
    "# Find the index of the sagittal axis in the orientation codes\n",
    "sagittal_index = codes.index('L')\n",
    "print(sagittal_index)"
   ],
   "metadata": {
    "collapsed": false
   }
  },
  {
   "cell_type": "markdown",
   "source": [
    "### Sagittal slices"
   ],
   "metadata": {
    "collapsed": false
   }
  },
  {
   "cell_type": "markdown",
   "source": [
    "Plot sagittal slices both with and without mask"
   ],
   "metadata": {
    "collapsed": false
   }
  },
  {
   "cell_type": "code",
   "execution_count": 157,
   "outputs": [
    {
     "name": "stdout",
     "output_type": "stream",
     "text": [
      "[4/7] HGJ [55]\n"
     ]
    },
    {
     "name": "stderr",
     "output_type": "stream",
     "text": [
      "55it [01:51,  2.02s/it]\n"
     ]
    },
    {
     "name": "stdout",
     "output_type": "stream",
     "text": [
      "[5/7] HMR [18]\n"
     ]
    },
    {
     "name": "stderr",
     "output_type": "stream",
     "text": [
      "18it [00:32,  1.82s/it]\n"
     ]
    },
    {
     "name": "stdout",
     "output_type": "stream",
     "text": [
      "[6/7] MDA [198]\n"
     ]
    },
    {
     "name": "stderr",
     "output_type": "stream",
     "text": [
      "198it [07:03,  2.14s/it]\n"
     ]
    }
   ],
   "source": [
    "for idx, source in enumerate(data['source'].unique()):\n",
    "    s = data[data['source'] == source]\n",
    "    if not os.path.exists(f'sagittal/{source}'):\n",
    "        os.mkdir(f'sagittal/{source}')\n",
    "\n",
    "    if not os.path.exists(f'sagittal_with_mask/{source}'):\n",
    "        os.mkdir(f'sagittal_with_mask/{source}')\n",
    "\n",
    "    print(f'[{idx}/{len(data[\"source\"].unique())}] {source} [{len(s)}]')\n",
    "    for image, mask in tqdm(zip(s['image'].values, s['mask'].values)):\n",
    "        image_data = get_image(image, mask=False)\n",
    "        mask_data = get_image(mask, mask=True)\n",
    "\n",
    "        if mask_data.shape[0] != image_data.shape[0]:\n",
    "            mask_data = mask_data[:image_data.shape[0], :, :]\n",
    "\n",
    "        if mask_data.shape[1] != image_data.shape[1]:\n",
    "            mask_data = mask_data[:, :image_data.shape[1], :]\n",
    "\n",
    "        if mask_data.shape[2] != image_data.shape[2]:\n",
    "            mask_data = mask_data[:, :, :image_data.shape[2]]\n",
    "\n",
    "        # plot_center_sagittal_slice(image_data, source, image)\n",
    "        # plot_center_sagittal_slice_with_mask(image_data, mask_data, source, image)"
   ],
   "metadata": {
    "collapsed": false
   }
  },
  {
   "cell_type": "markdown",
   "source": [
    "After this, images are cropped. See slice.py for how this is done and specific croppings for specific sources. Next step is to visualize the cropped images with masks."
   ],
   "metadata": {
    "collapsed": false
   }
  },
  {
   "cell_type": "code",
   "execution_count": 176,
   "outputs": [
    {
     "name": "stderr",
     "output_type": "stream",
     "text": [
      "160it [04:43,  1.77s/it]\n"
     ]
    }
   ],
   "source": [
    "image_paths = glob.glob('../data/cropped/images/*CT.nii.gz')\n",
    "mask_paths = glob.glob('../data/cropped/masks/*.nii.gz')\n",
    "\n",
    "for image, mask in tqdm(zip(image_paths, mask_paths)):\n",
    "    image_data = nib.load(image).get_fdata()\n",
    "    mask_data = nib.load(mask).get_fdata()\n",
    "\n",
    "    if mask_data.shape[0] != image_data.shape[0]:\n",
    "        mask_data = mask_data[:image_data.shape[0], :, :]\n",
    "\n",
    "    if mask_data.shape[1] != image_data.shape[1]:\n",
    "        mask_data = mask_data[:, :image_data.shape[1], :]\n",
    "\n",
    "    if mask_data.shape[2] != image_data.shape[2]:\n",
    "        mask_data = mask_data[:, :, :image_data.shape[2]]\n",
    "\n",
    "    source = (image.split('images\\\\')[1].split('-')[0])\n",
    "\n",
    "    if not os.path.exists(f'sagittal_with_mask_cropped/{source}'):\n",
    "        os.mkdir(f'sagittal_with_mask_cropped/{source}')\n",
    "    # plot_center_sagittal_slice(image_data, source, image)\n",
    "    plot_center_sagittal_slice_with_mask(image_data, mask_data, source, image.split('images\\\\')[1].split('.')[0])\n",
    "\n"
   ],
   "metadata": {
    "collapsed": false
   }
  },
  {
   "cell_type": "markdown",
   "source": [
    "Now to create a new dataset with the cropped images and the original images. Cropped images should be moved and original images should be copied"
   ],
   "metadata": {
    "collapsed": false
   }
  },
  {
   "cell_type": "code",
   "execution_count": 2,
   "outputs": [],
   "source": [
    "images_to_crop = {\n",
    "    'CHUM': [\n",
    "        '013',\n",
    "        '035',\n",
    "        '040',\n",
    "        '065',\n",
    "    ],\n",
    "    'CHUP': 'all',\n",
    "    'CHUS': ['101'],\n",
    "    'CHUV':\n",
    "        ['002',\n",
    "         '003',\n",
    "         '004',\n",
    "         '005',\n",
    "         '006',\n",
    "         '007',\n",
    "         '008',\n",
    "         '009',\n",
    "         '010',\n",
    "         '011',\n",
    "         '022',\n",
    "         '023',\n",
    "         '024',\n",
    "         '025',\n",
    "         '026',\n",
    "         '027',\n",
    "         '028',\n",
    "         '029',\n",
    "         '031',\n",
    "         '032',\n",
    "         '034',\n",
    "         '035',\n",
    "         '038',\n",
    "         '040',\n",
    "         '041'\n",
    "         '043',\n",
    "         '044',\n",
    "         '045',\n",
    "         '046',\n",
    "         '049',\n",
    "         '050',\n",
    "         '051',\n",
    "         '052'],\n",
    "    'HMR': [\n",
    "        '001',\n",
    "        '012',\n",
    "        '013',\n",
    "        '028',\n",
    "    ],\n",
    "    'MDA':\n",
    "        [\n",
    "            '001',\n",
    "            '003',\n",
    "            '004',\n",
    "            '005',\n",
    "            '006',\n",
    "            '007',\n",
    "            '029',\n",
    "            '030',\n",
    "            '032',\n",
    "            '036',\n",
    "            '048',\n",
    "            '052',\n",
    "            '055',\n",
    "            '056',\n",
    "            '057',\n",
    "            '059',\n",
    "            '063',\n",
    "            '067',\n",
    "            '072',\n",
    "            '074',\n",
    "            '075',\n",
    "            '086',\n",
    "            '087',\n",
    "            '092',\n",
    "            '097',\n",
    "            '101',\n",
    "            '102',\n",
    "            '103',\n",
    "            '108',\n",
    "            '109',\n",
    "            '111',\n",
    "            '117',\n",
    "            '120',\n",
    "            '122',\n",
    "            '123',\n",
    "            '144',\n",
    "            '153',\n",
    "            '157',\n",
    "            '161',\n",
    "            '163',\n",
    "            '164',\n",
    "            '170',\n",
    "            '175',\n",
    "            '178',\n",
    "            '188',\n",
    "            '190',\n",
    "            '194',\n",
    "            '200'\n",
    "        ]\n",
    "}\n",
    "\n",
    "cropped_images = glob.glob('../data/cropped/images/*.nii.gz')\n",
    "cropped_masks = glob.glob('../data/cropped/masks/*.nii.gz')\n",
    "\n",
    "original_images = glob.glob('../data/original/images/*.nii.gz')\n",
    "original_masks = glob.glob('../data/original/masks/*.nii.gz')\n"
   ],
   "metadata": {
    "collapsed": false
   }
  },
  {
   "cell_type": "code",
   "execution_count": null,
   "outputs": [],
   "source": [
    "import os\n",
    "import shutil\n",
    "\n",
    "# Define the paths of the new folders\n",
    "new_images_folder = '../data/cropped_original'\n",
    "new_masks_folder = '../data/cropped_original'\n",
    "\n",
    "if not os.path.exists(new_images_folder):\n",
    "    os.mkdir(new_images_folder)\n",
    "\n",
    "if not os.path.exists(new_masks_folder):\n",
    "    os.mkdir(new_masks_folder)\n",
    "\n",
    "if not os.path.exists(f'{new_images_folder}/images'):\n",
    "    os.mkdir(f'{new_images_folder}/images')\n",
    "\n",
    "if not os.path.exists(f'{new_masks_folder}/masks'):\n",
    "    os.mkdir(f'{new_masks_folder}/masks')\n",
    "\n",
    "# Loop over the original images and masks\n",
    "for image_path in original_images:\n",
    "    # Get the source and ID from the image path\n",
    "    source, id = os.path.basename(image_path).split('-')[:2]\n",
    "\n",
    "    if 'PT' in image_path:\n",
    "        continue\n",
    "\n",
    "    id = id.replace('__CT.nii.gz', '')\n",
    "    # Check if a cropped image is available for this ID\n",
    "    if source in images_to_crop and (images_to_crop[source] == 'all' or id in images_to_crop[source]):\n",
    "        # Find the corresponding cropped image and mask paths\n",
    "        cropped_image_path = f\"../data/cropped/images/{source}-{id}__CT.nii.gz\"\n",
    "        cropped_mask_path = f\"../data/cropped/masks/{source}-{id}.nii.gz\"\n",
    "        # Check if the cropped image and mask exist\n",
    "        if os.path.exists(cropped_image_path) and os.path.exists(cropped_mask_path):\n",
    "            # Move the cropped image and mask to the new folders\n",
    "            shutil.move(cropped_image_path, os.path.join(new_images_folder, f\"{source}-{id}__CT.nii.gz\"))\n",
    "            shutil.move(cropped_mask_path, os.path.join(new_masks_folder, f\"{source}-{id}.nii.gz\"))\n",
    "            print(f\"Moved cropped image and mask for {source}-{id}\")\n",
    "            continue\n",
    "\n",
    "    # If no cropped image is found, copy the original image and mask to the new folders\n",
    "    shutil.copy(image_path, os.path.join(new_images_folder, f\"{source}-{id}__CT.nii.gz\"))\n",
    "    mask_path = os.path.join(os.path.dirname(image_path.replace('images', 'masks')), f\"{source}-{id}.nii.gz\")\n",
    "\n",
    "    shutil.copy(mask_path, os.path.join(new_masks_folder, f\"{source}-{id}.nii.gz\"))\n",
    "    print(f\"Copied original image and mask for {source}-{id}\")\n"
   ],
   "metadata": {
    "collapsed": false,
    "pycharm": {
     "name": "#%%\n"
    }
   }
  },
  {
   "cell_type": "code",
   "execution_count": null,
   "outputs": [],
   "source": [
    "new_images_folder = '../data/cropped_original/images'\n",
    "new_masks_folder = '../data/cropped_original/masks'\n",
    "\n",
    "\n",
    "for file in glob.glob('../data/cropped_original/*.nii.gz'):\n",
    "    if 'CT' in file:\n",
    "        shutil.move(file, new_images_folder + '/' + file.split('_original\\\\')[1])\n",
    "    else:\n",
    "        shutil.move(file, new_masks_folder + '/' + file.split('_original\\\\')[1])"
   ],
   "metadata": {
    "collapsed": false,
    "pycharm": {
     "name": "#%%\n"
    }
   }
  },
  {
   "cell_type": "code",
   "execution_count": null,
   "outputs": [],
   "source": [],
   "metadata": {
    "collapsed": false
   }
  }
 ],
 "metadata": {
  "kernelspec": {
   "display_name": "Python 3",
   "language": "python",
   "name": "python3"
  },
  "language_info": {
   "codemirror_mode": {
    "name": "ipython",
    "version": 2
   },
   "file_extension": ".py",
   "mimetype": "text/x-python",
   "name": "python",
   "nbconvert_exporter": "python",
   "pygments_lexer": "ipython2",
   "version": "2.7.6"
  }
 },
 "nbformat": 4,
 "nbformat_minor": 0
}